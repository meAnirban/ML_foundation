{
 "cells": [
  {
   "cell_type": "code",
   "execution_count": 1,
   "id": "16225e6c-0341-4fd8-b3e5-2d5e84414673",
   "metadata": {},
   "outputs": [],
   "source": [
    "import torch\n",
    "import numpy as np\n",
    "import os"
   ]
  },
  {
   "cell_type": "code",
   "execution_count": 2,
   "id": "31fc7fe6-dd43-45eb-8633-3df1a789f4bd",
   "metadata": {},
   "outputs": [
    {
     "name": "stdout",
     "output_type": "stream",
     "text": [
      "1.11.0\n"
     ]
    }
   ],
   "source": [
    "print(torch.__version__)"
   ]
  },
  {
   "cell_type": "code",
   "execution_count": 3,
   "id": "fa6fa74c-2392-4b34-9f65-ab04620b48d5",
   "metadata": {},
   "outputs": [
    {
     "data": {
      "text/plain": [
       "True"
      ]
     },
     "execution_count": 3,
     "metadata": {},
     "output_type": "execute_result"
    }
   ],
   "source": [
    "torch.cuda.is_available()"
   ]
  },
  {
   "cell_type": "code",
   "execution_count": 4,
   "id": "34a94f4b-3d25-4094-b1b2-a00984604044",
   "metadata": {},
   "outputs": [
    {
     "data": {
      "text/plain": [
       "'GeForce GTX 1050'"
      ]
     },
     "execution_count": 4,
     "metadata": {},
     "output_type": "execute_result"
    }
   ],
   "source": [
    "torch.cuda.get_device_name()"
   ]
  },
  {
   "cell_type": "code",
   "execution_count": 5,
   "id": "e386c66a-dc37-4f39-8e41-b51bc6714415",
   "metadata": {},
   "outputs": [
    {
     "data": {
      "text/plain": [
       "'cuda'"
      ]
     },
     "execution_count": 5,
     "metadata": {},
     "output_type": "execute_result"
    }
   ],
   "source": [
    "device = \"cuda\" if torch.cuda.is_available() else \"cpu\"\n",
    "device"
   ]
  },
  {
   "cell_type": "code",
   "execution_count": 6,
   "id": "56995728-f915-42d9-aa26-47f94c3bc4dc",
   "metadata": {},
   "outputs": [
    {
     "data": {
      "text/plain": [
       "tensor([[ 1.,  2.,  3.],\n",
       "        [11., 22., 33.]])"
      ]
     },
     "execution_count": 6,
     "metadata": {},
     "output_type": "execute_result"
    }
   ],
   "source": [
    "basic_tensor = torch.tensor([[1,2,3], [11, 22, 33.]])\n",
    "basic_tensor"
   ]
  },
  {
   "cell_type": "code",
   "execution_count": 7,
   "id": "2e00d1f2-c229-469c-85ee-800e9dd6918c",
   "metadata": {},
   "outputs": [
    {
     "data": {
      "text/plain": [
       "torch.float32"
      ]
     },
     "execution_count": 7,
     "metadata": {},
     "output_type": "execute_result"
    }
   ],
   "source": [
    "basic_tensor.dtype"
   ]
  },
  {
   "cell_type": "code",
   "execution_count": 8,
   "id": "11feba28-62e7-4c76-ae7d-7cc31c5b9703",
   "metadata": {},
   "outputs": [
    {
     "data": {
      "text/plain": [
       "device(type='cpu')"
      ]
     },
     "execution_count": 8,
     "metadata": {},
     "output_type": "execute_result"
    }
   ],
   "source": [
    "basic_tensor.device"
   ]
  },
  {
   "cell_type": "code",
   "execution_count": 9,
   "id": "52717e49-f365-419e-adab-0bf3d7075192",
   "metadata": {},
   "outputs": [
    {
     "data": {
      "text/plain": [
       "torch.Size([2, 3])"
      ]
     },
     "execution_count": 9,
     "metadata": {},
     "output_type": "execute_result"
    }
   ],
   "source": [
    "basic_tensor.shape"
   ]
  },
  {
   "cell_type": "code",
   "execution_count": 10,
   "id": "b64c0415-e4f9-46d2-b2cd-4582b5245e64",
   "metadata": {},
   "outputs": [
    {
     "data": {
      "text/plain": [
       "False"
      ]
     },
     "execution_count": 10,
     "metadata": {},
     "output_type": "execute_result"
    }
   ],
   "source": [
    "basic_tensor.requires_grad"
   ]
  },
  {
   "cell_type": "code",
   "execution_count": 11,
   "id": "0a432413-4c71-4fa8-9100-cb3064442aca",
   "metadata": {},
   "outputs": [
    {
     "data": {
      "text/plain": [
       "tensor([[ 1.,  2.,  3.],\n",
       "        [11., 22., 33.]], device='cuda:0', requires_grad=True)"
      ]
     },
     "execution_count": 11,
     "metadata": {},
     "output_type": "execute_result"
    }
   ],
   "source": [
    "tensor = torch.tensor([[1,2,3], [11, 22, 33.]],\n",
    "                     dtype = torch.float,\n",
    "                     device = device,\n",
    "                     requires_grad = True)\n",
    "\n",
    "tensor"
   ]
  },
  {
   "cell_type": "code",
   "execution_count": 12,
   "id": "4f76ae72-3051-4f61-ba08-f2f2f0f56ed5",
   "metadata": {},
   "outputs": [
    {
     "data": {
      "text/plain": [
       "torch.float32"
      ]
     },
     "execution_count": 12,
     "metadata": {},
     "output_type": "execute_result"
    }
   ],
   "source": [
    "tensor.dtype"
   ]
  },
  {
   "cell_type": "code",
   "execution_count": 13,
   "id": "542e6647-451e-42f1-bd96-343f8e50afb2",
   "metadata": {},
   "outputs": [
    {
     "data": {
      "text/plain": [
       "device(type='cuda', index=0)"
      ]
     },
     "execution_count": 13,
     "metadata": {},
     "output_type": "execute_result"
    }
   ],
   "source": [
    "tensor.device"
   ]
  },
  {
   "cell_type": "code",
   "execution_count": 14,
   "id": "79676db8-46a6-4b8b-b74c-defbd663b15e",
   "metadata": {},
   "outputs": [
    {
     "data": {
      "text/plain": [
       "True"
      ]
     },
     "execution_count": 14,
     "metadata": {},
     "output_type": "execute_result"
    }
   ],
   "source": [
    "tensor.requires_grad"
   ]
  },
  {
   "cell_type": "markdown",
   "id": "864279bb-ce2f-4da1-b484-54aec61d53e8",
   "metadata": {},
   "source": [
    "### Other commonly used tensors"
   ]
  },
  {
   "cell_type": "code",
   "execution_count": 15,
   "id": "426ca7fa-16a6-4525-b5b0-0072d36e032c",
   "metadata": {},
   "outputs": [
    {
     "data": {
      "text/plain": [
       "tensor([[0., 0., 0.],\n",
       "        [0., 0., 0.],\n",
       "        [0., 0., 0.]])"
      ]
     },
     "execution_count": 15,
     "metadata": {},
     "output_type": "execute_result"
    }
   ],
   "source": [
    "x = torch.empty(size = (3,3))\n",
    "x"
   ]
  },
  {
   "cell_type": "code",
   "execution_count": 16,
   "id": "1ff7b292-eb03-4c7d-8feb-85b10e8940b7",
   "metadata": {},
   "outputs": [
    {
     "data": {
      "text/plain": [
       "tensor([[0., 0., 0.],\n",
       "        [0., 0., 0.],\n",
       "        [0., 0., 0.]])"
      ]
     },
     "execution_count": 16,
     "metadata": {},
     "output_type": "execute_result"
    }
   ],
   "source": [
    "x = torch.zeros(size = (3,3))\n",
    "x"
   ]
  },
  {
   "cell_type": "code",
   "execution_count": 17,
   "id": "3f04eb7c-f5d5-445e-97bb-da1da5ede736",
   "metadata": {},
   "outputs": [
    {
     "data": {
      "text/plain": [
       "tensor([[1., 1., 1.],\n",
       "        [1., 1., 1.],\n",
       "        [1., 1., 1.]])"
      ]
     },
     "execution_count": 17,
     "metadata": {},
     "output_type": "execute_result"
    }
   ],
   "source": [
    "x = torch.ones(size = (3,3))\n",
    "x"
   ]
  },
  {
   "cell_type": "code",
   "execution_count": 18,
   "id": "db5985f2-a835-4999-965f-229b6cfb4b26",
   "metadata": {},
   "outputs": [
    {
     "data": {
      "text/plain": [
       "tensor([[0.8368, 0.2905, 0.7044],\n",
       "        [0.8850, 0.9184, 0.7859],\n",
       "        [0.4518, 0.4898, 0.1306]])"
      ]
     },
     "execution_count": 18,
     "metadata": {},
     "output_type": "execute_result"
    }
   ],
   "source": [
    "x = torch.rand(size = (3,3))\n",
    "x"
   ]
  },
  {
   "cell_type": "code",
   "execution_count": 19,
   "id": "2b8d4d4e-5f20-4ce3-a3e6-9726c043ad7e",
   "metadata": {},
   "outputs": [
    {
     "data": {
      "text/plain": [
       "tensor([[1., 0., 0.],\n",
       "        [0., 1., 0.],\n",
       "        [0., 0., 1.]])"
      ]
     },
     "execution_count": 19,
     "metadata": {},
     "output_type": "execute_result"
    }
   ],
   "source": [
    "x = torch.eye(3)\n",
    "x"
   ]
  },
  {
   "cell_type": "code",
   "execution_count": 20,
   "id": "d82669e0-1e48-4c5e-893b-6f17dbc0343e",
   "metadata": {},
   "outputs": [
    {
     "data": {
      "text/plain": [
       "tensor([ 0,  2,  4,  6,  8, 10, 12, 14, 16, 18])"
      ]
     },
     "execution_count": 20,
     "metadata": {},
     "output_type": "execute_result"
    }
   ],
   "source": [
    "x = torch.arange(start = 0, end = 20, step = 2)\n",
    "x"
   ]
  },
  {
   "cell_type": "code",
   "execution_count": 21,
   "id": "1629590d-6688-48af-8e06-dfc85c875b31",
   "metadata": {},
   "outputs": [
    {
     "data": {
      "text/plain": [
       "tensor([ 0.,  5., 10., 15., 20.])"
      ]
     },
     "execution_count": 21,
     "metadata": {},
     "output_type": "execute_result"
    }
   ],
   "source": [
    "x = torch.linspace(start = 0, end = 20, steps = 5)\n",
    "x"
   ]
  },
  {
   "cell_type": "code",
   "execution_count": 22,
   "id": "b9b76152-d763-4866-a918-99d7406f19f5",
   "metadata": {},
   "outputs": [
    {
     "data": {
      "text/plain": [
       "tensor([[ 0.7184,  0.9772, -2.0385],\n",
       "        [-0.8361,  1.4832, -0.3807],\n",
       "        [ 0.1666, -0.2674,  1.0816]])"
      ]
     },
     "execution_count": 22,
     "metadata": {},
     "output_type": "execute_result"
    }
   ],
   "source": [
    "x = torch.rand(size = (3,3)).normal_(mean = 0, std = 1)\n",
    "x"
   ]
  },
  {
   "cell_type": "code",
   "execution_count": 23,
   "id": "9a5e1133-54ea-4355-930b-6b9e030dbde7",
   "metadata": {},
   "outputs": [
    {
     "data": {
      "text/plain": [
       "tensor([[3.3604, 4.2345, 4.6348],\n",
       "        [3.2645, 5.9776, 4.4895],\n",
       "        [4.3547, 4.8101, 3.0787]])"
      ]
     },
     "execution_count": 23,
     "metadata": {},
     "output_type": "execute_result"
    }
   ],
   "source": [
    "x = torch.rand(size = (3,3)).uniform_(3, 6)\n",
    "x"
   ]
  },
  {
   "cell_type": "code",
   "execution_count": 24,
   "id": "5f336f99-b74d-49b5-b1b7-4d9982a7500c",
   "metadata": {},
   "outputs": [
    {
     "data": {
      "text/plain": [
       "tensor([[2., 0., 0., 0.],\n",
       "        [0., 2., 0., 0.],\n",
       "        [0., 0., 2., 0.],\n",
       "        [0., 0., 0., 2.]])"
      ]
     },
     "execution_count": 24,
     "metadata": {},
     "output_type": "execute_result"
    }
   ],
   "source": [
    "x = torch.diag(2*torch.ones(4))\n",
    "x"
   ]
  },
  {
   "cell_type": "code",
   "execution_count": 25,
   "id": "fc77a2d9-8143-4566-96b5-6aef5506a720",
   "metadata": {},
   "outputs": [
    {
     "data": {
      "text/plain": [
       "tensor([[ True, False, False, False],\n",
       "        [False,  True, False, False],\n",
       "        [False, False,  True, False],\n",
       "        [False, False, False,  True]])"
      ]
     },
     "execution_count": 25,
     "metadata": {},
     "output_type": "execute_result"
    }
   ],
   "source": [
    "x.bool()"
   ]
  },
  {
   "cell_type": "code",
   "execution_count": 26,
   "id": "7e92c7c2-e7d5-442d-8bd5-70d844e4b114",
   "metadata": {},
   "outputs": [
    {
     "data": {
      "text/plain": [
       "tensor([[2, 0, 0, 0],\n",
       "        [0, 2, 0, 0],\n",
       "        [0, 0, 2, 0],\n",
       "        [0, 0, 0, 2]], dtype=torch.int32)"
      ]
     },
     "execution_count": 26,
     "metadata": {},
     "output_type": "execute_result"
    }
   ],
   "source": [
    "x.int()"
   ]
  },
  {
   "cell_type": "code",
   "execution_count": 27,
   "id": "804cb343-e04c-413b-bd52-0a053927523e",
   "metadata": {},
   "outputs": [
    {
     "data": {
      "text/plain": [
       "tensor([[2, 0, 0, 0],\n",
       "        [0, 2, 0, 0],\n",
       "        [0, 0, 2, 0],\n",
       "        [0, 0, 0, 2]], dtype=torch.int16)"
      ]
     },
     "execution_count": 27,
     "metadata": {},
     "output_type": "execute_result"
    }
   ],
   "source": [
    "x.short() # int16"
   ]
  },
  {
   "cell_type": "code",
   "execution_count": 28,
   "id": "e1692804-2bae-4956-b235-2cfd2925e57e",
   "metadata": {},
   "outputs": [
    {
     "data": {
      "text/plain": [
       "tensor([[2, 0, 0, 0],\n",
       "        [0, 2, 0, 0],\n",
       "        [0, 0, 2, 0],\n",
       "        [0, 0, 0, 2]])"
      ]
     },
     "execution_count": 28,
     "metadata": {},
     "output_type": "execute_result"
    }
   ],
   "source": [
    "x.long() # int 64"
   ]
  },
  {
   "cell_type": "code",
   "execution_count": 29,
   "id": "7e7f0c99-0ea2-47e6-8447-74a6deafdfff",
   "metadata": {},
   "outputs": [
    {
     "data": {
      "text/plain": [
       "tensor([[2., 0., 0., 0.],\n",
       "        [0., 2., 0., 0.],\n",
       "        [0., 0., 2., 0.],\n",
       "        [0., 0., 0., 2.]], dtype=torch.float16)"
      ]
     },
     "execution_count": 29,
     "metadata": {},
     "output_type": "execute_result"
    }
   ],
   "source": [
    "x.half() # float16"
   ]
  },
  {
   "cell_type": "code",
   "execution_count": 30,
   "id": "0cf96ce4-adc2-47f6-bdd5-d11af865900d",
   "metadata": {},
   "outputs": [
    {
     "data": {
      "text/plain": [
       "tensor([[2., 0., 0., 0.],\n",
       "        [0., 2., 0., 0.],\n",
       "        [0., 0., 2., 0.],\n",
       "        [0., 0., 0., 2.]])"
      ]
     },
     "execution_count": 30,
     "metadata": {},
     "output_type": "execute_result"
    }
   ],
   "source": [
    "x.float() # float32"
   ]
  },
  {
   "cell_type": "code",
   "execution_count": 31,
   "id": "57b2c833-e930-4ffd-ae2c-eb29c7f5e045",
   "metadata": {},
   "outputs": [
    {
     "data": {
      "text/plain": [
       "tensor([[2., 0., 0., 0.],\n",
       "        [0., 2., 0., 0.],\n",
       "        [0., 0., 2., 0.],\n",
       "        [0., 0., 0., 2.]], dtype=torch.float64)"
      ]
     },
     "execution_count": 31,
     "metadata": {},
     "output_type": "execute_result"
    }
   ],
   "source": [
    "x.double() # float64"
   ]
  },
  {
   "cell_type": "code",
   "execution_count": 32,
   "id": "43340f57-aa32-45cc-9938-a3ee6611c996",
   "metadata": {},
   "outputs": [
    {
     "data": {
      "text/plain": [
       "array([[1., 2., 4.],\n",
       "       [3., 5., 7.]])"
      ]
     },
     "execution_count": 32,
     "metadata": {},
     "output_type": "execute_result"
    }
   ],
   "source": [
    "np_array = np.array([[1,2,4], [3,5,7.]])\n",
    "np_array"
   ]
  },
  {
   "cell_type": "code",
   "execution_count": 33,
   "id": "988598ee-a948-4af7-bb6c-1471e55884f8",
   "metadata": {},
   "outputs": [
    {
     "data": {
      "text/plain": [
       "tensor([[1., 2., 4.],\n",
       "        [3., 5., 7.]], dtype=torch.float64)"
      ]
     },
     "execution_count": 33,
     "metadata": {},
     "output_type": "execute_result"
    }
   ],
   "source": [
    "torch.tensor(np_array)"
   ]
  },
  {
   "cell_type": "code",
   "execution_count": 34,
   "id": "df590390-db4c-443d-9d5f-02904cd0fc44",
   "metadata": {},
   "outputs": [
    {
     "data": {
      "text/plain": [
       "tensor([[1., 2., 4.],\n",
       "        [3., 5., 7.]], dtype=torch.float64)"
      ]
     },
     "execution_count": 34,
     "metadata": {},
     "output_type": "execute_result"
    }
   ],
   "source": [
    "torch.from_numpy(np_array)"
   ]
  },
  {
   "cell_type": "markdown",
   "id": "fbba5966-b1bb-4a2d-8954-b7c9bfa426f6",
   "metadata": {},
   "source": [
    "### Mathematical operations"
   ]
  },
  {
   "cell_type": "code",
   "execution_count": 35,
   "id": "06cd620d-c6c5-470b-9853-49a3e9e8fbcd",
   "metadata": {},
   "outputs": [
    {
     "data": {
      "text/plain": [
       "(tensor([10, 15, 20, 25, 30, 35, 40, 45, 50, 55, 60, 65, 70, 75, 80, 85]),\n",
       " tensor([20, 25, 30, 35, 40, 45, 50, 55, 60, 65, 70, 75, 80, 85, 90, 95]))"
      ]
     },
     "execution_count": 35,
     "metadata": {},
     "output_type": "execute_result"
    }
   ],
   "source": [
    "x = torch.arange(start = 10, end = 90, step = 5)\n",
    "y = torch.arange(start = 20, end = 100, step = 5)\n",
    "\n",
    "x, y"
   ]
  },
  {
   "cell_type": "code",
   "execution_count": 36,
   "id": "a3f0ad11-7ed8-4da5-8552-7339d5dc2fd7",
   "metadata": {},
   "outputs": [
    {
     "data": {
      "text/plain": [
       "(torch.Size([16]), torch.Size([16]))"
      ]
     },
     "execution_count": 36,
     "metadata": {},
     "output_type": "execute_result"
    }
   ],
   "source": [
    "x.shape, y.shape"
   ]
  },
  {
   "cell_type": "code",
   "execution_count": 37,
   "id": "033f21c5-41f5-4cd8-9316-779e50504d68",
   "metadata": {},
   "outputs": [
    {
     "data": {
      "text/plain": [
       "tensor([ 30,  40,  50,  60,  70,  80,  90, 100, 110, 120, 130, 140, 150, 160,\n",
       "        170, 180])"
      ]
     },
     "execution_count": 37,
     "metadata": {},
     "output_type": "execute_result"
    }
   ],
   "source": [
    "x + y"
   ]
  },
  {
   "cell_type": "code",
   "execution_count": 38,
   "id": "aa20b9de-0063-4f54-9c3d-3b6c51b02e0e",
   "metadata": {},
   "outputs": [
    {
     "data": {
      "text/plain": [
       "tensor([-10, -10, -10, -10, -10, -10, -10, -10, -10, -10, -10, -10, -10, -10,\n",
       "        -10, -10])"
      ]
     },
     "execution_count": 38,
     "metadata": {},
     "output_type": "execute_result"
    }
   ],
   "source": [
    "x - y"
   ]
  },
  {
   "cell_type": "code",
   "execution_count": 39,
   "id": "a3757e1e-cbdb-41df-9b4d-bc4dacc579e7",
   "metadata": {},
   "outputs": [
    {
     "data": {
      "text/plain": [
       "tensor([ 200,  375,  600,  875, 1200, 1575, 2000, 2475, 3000, 3575, 4200, 4875,\n",
       "        5600, 6375, 7200, 8075])"
      ]
     },
     "execution_count": 39,
     "metadata": {},
     "output_type": "execute_result"
    }
   ],
   "source": [
    "x * y"
   ]
  },
  {
   "cell_type": "code",
   "execution_count": 40,
   "id": "aba35795-a75b-49b7-9aee-419723d6d649",
   "metadata": {},
   "outputs": [
    {
     "data": {
      "text/plain": [
       "tensor([0.5000, 0.6000, 0.6667, 0.7143, 0.7500, 0.7778, 0.8000, 0.8182, 0.8333,\n",
       "        0.8462, 0.8571, 0.8667, 0.8750, 0.8824, 0.8889, 0.8947])"
      ]
     },
     "execution_count": 40,
     "metadata": {},
     "output_type": "execute_result"
    }
   ],
   "source": [
    "x / y"
   ]
  },
  {
   "cell_type": "code",
   "execution_count": 41,
   "id": "3e711d01-3e5e-484e-8664-92045f4ebdfb",
   "metadata": {},
   "outputs": [
    {
     "data": {
      "text/plain": [
       "tensor([1., 1., 1., 1., 1., 1., 1., 1., 1., 1., 1., 1., 1., 1., 1., 1.])"
      ]
     },
     "execution_count": 41,
     "metadata": {},
     "output_type": "execute_result"
    }
   ],
   "source": [
    "z = torch.ones(16)\n",
    "z"
   ]
  },
  {
   "cell_type": "code",
   "execution_count": 42,
   "id": "b0376b43-b173-427c-a631-c256d00491b9",
   "metadata": {},
   "outputs": [
    {
     "data": {
      "text/plain": [
       "tensor([11., 16., 21., 26., 31., 36., 41., 46., 51., 56., 61., 66., 71., 76.,\n",
       "        81., 86.])"
      ]
     },
     "execution_count": 42,
     "metadata": {},
     "output_type": "execute_result"
    }
   ],
   "source": [
    "z.add_(x) # inplace addition"
   ]
  },
  {
   "cell_type": "code",
   "execution_count": 43,
   "id": "afd94b8b-e0ac-4b38-ba1d-2674264d962f",
   "metadata": {},
   "outputs": [
    {
     "data": {
      "text/plain": [
       "tensor([ 100,  225,  400,  625,  900, 1225, 1600, 2025, 2500, 3025, 3600, 4225,\n",
       "        4900, 5625, 6400, 7225])"
      ]
     },
     "execution_count": 43,
     "metadata": {},
     "output_type": "execute_result"
    }
   ],
   "source": [
    "x**2"
   ]
  },
  {
   "cell_type": "code",
   "execution_count": 44,
   "id": "a54fbd2a-34af-4b71-9ffd-d6793c04f558",
   "metadata": {},
   "outputs": [
    {
     "data": {
      "text/plain": [
       "tensor([False, False, False, False, False, False, False, False, False,  True,\n",
       "         True,  True,  True,  True,  True,  True])"
      ]
     },
     "execution_count": 44,
     "metadata": {},
     "output_type": "execute_result"
    }
   ],
   "source": [
    "x > 50"
   ]
  },
  {
   "cell_type": "code",
   "execution_count": 45,
   "id": "ba9231ac-5498-4c60-8e24-7120a7b283a3",
   "metadata": {},
   "outputs": [
    {
     "data": {
      "text/plain": [
       "tensor([[1.0049, 0.6708, 0.7658, 1.1082],\n",
       "        [2.0220, 1.1710, 1.2061, 2.0432],\n",
       "        [2.3033, 1.3688, 1.5906, 2.4890]])"
      ]
     },
     "execution_count": 45,
     "metadata": {},
     "output_type": "execute_result"
    }
   ],
   "source": [
    "# Matrix multiplication\n",
    "A = torch.rand(size = (3,5))\n",
    "B = torch.rand(size = (5,4))\n",
    "\n",
    "A @ B"
   ]
  },
  {
   "cell_type": "code",
   "execution_count": 46,
   "id": "30e1e2b9-6c99-4a09-9c71-f6708d1042e3",
   "metadata": {},
   "outputs": [
    {
     "data": {
      "text/plain": [
       "tensor([[1.0049, 0.6708, 0.7658, 1.1082],\n",
       "        [2.0220, 1.1710, 1.2061, 2.0432],\n",
       "        [2.3033, 1.3688, 1.5906, 2.4890]])"
      ]
     },
     "execution_count": 46,
     "metadata": {},
     "output_type": "execute_result"
    }
   ],
   "source": [
    "A.matmul(B)"
   ]
  },
  {
   "cell_type": "code",
   "execution_count": 47,
   "id": "cb7f8a33-1b74-4d61-8030-ce4167655aac",
   "metadata": {},
   "outputs": [
    {
     "data": {
      "text/plain": [
       "tensor([[1.0903, 1.7696, 1.3253],\n",
       "        [0.0539, 2.6781, 1.1296],\n",
       "        [0.1131, 0.6525, 1.2908]])"
      ]
     },
     "execution_count": 47,
     "metadata": {},
     "output_type": "execute_result"
    }
   ],
   "source": [
    "X = torch.rand(size = (3,3))\n",
    "X.matrix_exp()"
   ]
  },
  {
   "cell_type": "code",
   "execution_count": 48,
   "id": "d147b4cd-4222-40cd-8dbe-1fac4c656e35",
   "metadata": {},
   "outputs": [
    {
     "data": {
      "text/plain": [
       "tensor([[0.0847, 1.1147, 0.6705],\n",
       "        [0.0682, 1.0213, 0.6259],\n",
       "        [0.0116, 0.4151, 0.3005]])"
      ]
     },
     "execution_count": 48,
     "metadata": {},
     "output_type": "execute_result"
    }
   ],
   "source": [
    "X.matrix_power(2)"
   ]
  },
  {
   "cell_type": "code",
   "execution_count": 49,
   "id": "73136004-9ae3-4b77-b56c-9cafc18c5ba3",
   "metadata": {},
   "outputs": [
    {
     "data": {
      "text/plain": [
       "tensor(52200)"
      ]
     },
     "execution_count": 49,
     "metadata": {},
     "output_type": "execute_result"
    }
   ],
   "source": [
    "torch.dot(x, y)"
   ]
  },
  {
   "cell_type": "code",
   "execution_count": 50,
   "id": "4c2f8a40-0ecd-4217-8702-ae66e0bb3599",
   "metadata": {},
   "outputs": [
    {
     "data": {
      "text/plain": [
       "tensor([[0.2200, 0.2049, 0.5539, 0.5083, 0.1326],\n",
       "        [0.6718, 0.7358, 0.2822, 0.8288, 0.3632],\n",
       "        [0.9937, 0.5486, 0.8615, 0.9858, 0.1645]])"
      ]
     },
     "execution_count": 50,
     "metadata": {},
     "output_type": "execute_result"
    }
   ],
   "source": [
    "# Broadcasting\n",
    "\n",
    "A"
   ]
  },
  {
   "cell_type": "code",
   "execution_count": 51,
   "id": "d5b955a5-a439-4848-adc3-a1cd14c1cbdc",
   "metadata": {},
   "outputs": [
    {
     "data": {
      "text/plain": [
       "tensor([[-0.7800, -0.7951, -0.4461, -0.4917, -0.8674],\n",
       "        [-0.3282, -0.2642, -0.7178, -0.1712, -0.6368],\n",
       "        [-0.0063, -0.4514, -0.1385, -0.0142, -0.8355]])"
      ]
     },
     "execution_count": 51,
     "metadata": {},
     "output_type": "execute_result"
    }
   ],
   "source": [
    "A  - 1"
   ]
  },
  {
   "cell_type": "code",
   "execution_count": 52,
   "id": "97b541bc-36d5-45c9-8ac3-582409469205",
   "metadata": {},
   "outputs": [
    {
     "data": {
      "text/plain": [
       "tensor([[1.2200, 1.2049, 1.5539, 1.5083, 1.1326],\n",
       "        [1.6718, 1.7358, 1.2822, 1.8288, 1.3632],\n",
       "        [1.9937, 1.5486, 1.8615, 1.9858, 1.1645]])"
      ]
     },
     "execution_count": 52,
     "metadata": {},
     "output_type": "execute_result"
    }
   ],
   "source": [
    "A + 1"
   ]
  },
  {
   "cell_type": "code",
   "execution_count": 53,
   "id": "4c86c63b-e4e7-49dd-b13a-b92a5626b5cd",
   "metadata": {},
   "outputs": [
    {
     "data": {
      "text/plain": [
       "tensor([[2.2002, 2.0490, 5.5392, 5.0833, 1.3258],\n",
       "        [6.7178, 7.3584, 2.8221, 8.2882, 3.6322],\n",
       "        [9.9367, 5.4864, 8.6150, 9.8577, 1.6449]])"
      ]
     },
     "execution_count": 53,
     "metadata": {},
     "output_type": "execute_result"
    }
   ],
   "source": [
    "A * 10"
   ]
  },
  {
   "cell_type": "code",
   "execution_count": 54,
   "id": "247f983f-9ac1-4d64-8bd1-f0c956ade98c",
   "metadata": {},
   "outputs": [
    {
     "data": {
      "text/plain": [
       "tensor(8.0557)"
      ]
     },
     "execution_count": 54,
     "metadata": {},
     "output_type": "execute_result"
    }
   ],
   "source": [
    "torch.sum(A)"
   ]
  },
  {
   "cell_type": "code",
   "execution_count": 55,
   "id": "6ba42e6f-2dde-4428-9ea1-a0347c04c741",
   "metadata": {},
   "outputs": [
    {
     "data": {
      "text/plain": [
       "tensor(0.9937)"
      ]
     },
     "execution_count": 55,
     "metadata": {},
     "output_type": "execute_result"
    }
   ],
   "source": [
    "torch.max(A)"
   ]
  },
  {
   "cell_type": "code",
   "execution_count": 56,
   "id": "e5e45550-8db4-45a0-9e6e-249611c8415e",
   "metadata": {},
   "outputs": [
    {
     "data": {
      "text/plain": [
       "tensor(0.1326)"
      ]
     },
     "execution_count": 56,
     "metadata": {},
     "output_type": "execute_result"
    }
   ],
   "source": [
    "torch.min(A)"
   ]
  },
  {
   "cell_type": "code",
   "execution_count": 57,
   "id": "26dcce79-5a04-4169-be72-0a19b1d18428",
   "metadata": {},
   "outputs": [
    {
     "data": {
      "text/plain": [
       "torch.return_types.min(\n",
       "values=tensor([0.1326, 0.2822, 0.1645]),\n",
       "indices=tensor([4, 2, 4]))"
      ]
     },
     "execution_count": 57,
     "metadata": {},
     "output_type": "execute_result"
    }
   ],
   "source": [
    "torch.min(A, dim = 1) # minimum value in every row"
   ]
  },
  {
   "cell_type": "code",
   "execution_count": 58,
   "id": "35a9bf8a-aeae-45ff-9359-08cc6006ae88",
   "metadata": {},
   "outputs": [
    {
     "data": {
      "text/plain": [
       "torch.return_types.min(\n",
       "values=tensor([0.2200, 0.2049, 0.2822, 0.5083, 0.1326]),\n",
       "indices=tensor([0, 0, 1, 0, 0]))"
      ]
     },
     "execution_count": 58,
     "metadata": {},
     "output_type": "execute_result"
    }
   ],
   "source": [
    "a = torch.min(A, dim = 0) # minimum value in every col\n",
    "a"
   ]
  },
  {
   "cell_type": "code",
   "execution_count": 59,
   "id": "50fbb3d2-6a62-47aa-a7d1-f84db883eb59",
   "metadata": {},
   "outputs": [
    {
     "data": {
      "text/plain": [
       "tensor([0, 0, 1, 0, 0])"
      ]
     },
     "execution_count": 59,
     "metadata": {},
     "output_type": "execute_result"
    }
   ],
   "source": [
    "a.indices"
   ]
  },
  {
   "cell_type": "code",
   "execution_count": 60,
   "id": "937d01cc-6b3d-454e-af99-fa9d2d418559",
   "metadata": {},
   "outputs": [
    {
     "data": {
      "text/plain": [
       "tensor([[0.2200, 0.2049, 0.5539, 0.5083, 0.1326],\n",
       "        [0.6718, 0.7358, 0.2822, 0.8288, 0.3632],\n",
       "        [0.9937, 0.5486, 0.8615, 0.9858, 0.1645]])"
      ]
     },
     "execution_count": 60,
     "metadata": {},
     "output_type": "execute_result"
    }
   ],
   "source": [
    "A"
   ]
  },
  {
   "cell_type": "code",
   "execution_count": 61,
   "id": "cdde1dcb-ea45-4ed3-85d4-880f0781f5b4",
   "metadata": {},
   "outputs": [
    {
     "data": {
      "text/plain": [
       "tensor([[-0.2200, -0.2049, -0.5539, -0.5083, -0.1326],\n",
       "        [-0.6718, -0.7358, -0.2822, -0.8288, -0.3632],\n",
       "        [-0.9937, -0.5486, -0.8615, -0.9858, -0.1645]])"
      ]
     },
     "execution_count": 61,
     "metadata": {},
     "output_type": "execute_result"
    }
   ],
   "source": [
    "-A"
   ]
  },
  {
   "cell_type": "code",
   "execution_count": 62,
   "id": "8a7e4d35-5446-4be5-a8c9-87edd6f6403a",
   "metadata": {},
   "outputs": [
    {
     "data": {
      "text/plain": [
       "tensor([[0.2200, 0.2049, 0.5539, 0.5083, 0.1326],\n",
       "        [0.6718, 0.7358, 0.2822, 0.8288, 0.3632],\n",
       "        [0.9937, 0.5486, 0.8615, 0.9858, 0.1645]])"
      ]
     },
     "execution_count": 62,
     "metadata": {},
     "output_type": "execute_result"
    }
   ],
   "source": [
    "torch.abs(-A)"
   ]
  },
  {
   "cell_type": "code",
   "execution_count": 63,
   "id": "09636aab-01c6-4fd2-89d3-61eb4b81adf7",
   "metadata": {},
   "outputs": [
    {
     "data": {
      "text/plain": [
       "tensor(10)"
      ]
     },
     "execution_count": 63,
     "metadata": {},
     "output_type": "execute_result"
    }
   ],
   "source": [
    "torch.argmax(A)"
   ]
  },
  {
   "cell_type": "code",
   "execution_count": 64,
   "id": "5fc11ea4-e0b9-4cda-9cd1-96745cf8b578",
   "metadata": {},
   "outputs": [
    {
     "data": {
      "text/plain": [
       "tensor(4)"
      ]
     },
     "execution_count": 64,
     "metadata": {},
     "output_type": "execute_result"
    }
   ],
   "source": [
    "torch.argmin(A)"
   ]
  },
  {
   "cell_type": "code",
   "execution_count": 65,
   "id": "e86ccac3-bc6e-4fa1-aec4-0204ffabb004",
   "metadata": {},
   "outputs": [
    {
     "data": {
      "text/plain": [
       "tensor(0.5370)"
      ]
     },
     "execution_count": 65,
     "metadata": {},
     "output_type": "execute_result"
    }
   ],
   "source": [
    "torch.mean(A)"
   ]
  },
  {
   "cell_type": "code",
   "execution_count": 66,
   "id": "8f2b34d8-03e9-4f85-83b9-cad80f93a931",
   "metadata": {},
   "outputs": [
    {
     "data": {
      "text/plain": [
       "tensor([0.3240, 0.5764, 0.7108])"
      ]
     },
     "execution_count": 66,
     "metadata": {},
     "output_type": "execute_result"
    }
   ],
   "source": [
    "torch.mean(A, dim = 1) # row wise mean"
   ]
  },
  {
   "cell_type": "code",
   "execution_count": 67,
   "id": "c2f33349-f1af-4cff-8ef0-74370ee3e1e0",
   "metadata": {},
   "outputs": [
    {
     "data": {
      "text/plain": [
       "tensor([[1., 1., 1., 1., 1.],\n",
       "        [1., 1., 1., 1., 1.],\n",
       "        [1., 1., 1., 1., 1.]])"
      ]
     },
     "execution_count": 67,
     "metadata": {},
     "output_type": "execute_result"
    }
   ],
   "source": [
    "D = torch.ones(A.shape)\n",
    "D"
   ]
  },
  {
   "cell_type": "code",
   "execution_count": 68,
   "id": "4a169d9d-4150-4270-b3c8-919491a312d5",
   "metadata": {},
   "outputs": [
    {
     "data": {
      "text/plain": [
       "tensor([[True, True, True, True, True],\n",
       "        [True, True, True, True, True],\n",
       "        [True, True, True, True, True]])"
      ]
     },
     "execution_count": 68,
     "metadata": {},
     "output_type": "execute_result"
    }
   ],
   "source": [
    "torch.eq(D, D)"
   ]
  },
  {
   "cell_type": "code",
   "execution_count": 69,
   "id": "2733265c-166e-4a99-b5c1-b4720f6d2e72",
   "metadata": {},
   "outputs": [
    {
     "data": {
      "text/plain": [
       "tensor([[False, False, False, False, False],\n",
       "        [False, False, False, False, False],\n",
       "        [False, False, False, False, False]])"
      ]
     },
     "execution_count": 69,
     "metadata": {},
     "output_type": "execute_result"
    }
   ],
   "source": [
    "torch.eq(A, D)"
   ]
  },
  {
   "cell_type": "code",
   "execution_count": 70,
   "id": "f3059bda-be81-4472-8da5-ac7993208a0f",
   "metadata": {},
   "outputs": [
    {
     "data": {
      "text/plain": [
       "tensor([[False, False, False, False, False],\n",
       "        [False, False, False, False, False],\n",
       "        [False, False, False, False, False]])"
      ]
     },
     "execution_count": 70,
     "metadata": {},
     "output_type": "execute_result"
    }
   ],
   "source": [
    "D == A"
   ]
  },
  {
   "cell_type": "code",
   "execution_count": 71,
   "id": "f94933e6-024e-460c-8a4a-05bccd15e73c",
   "metadata": {},
   "outputs": [
    {
     "data": {
      "text/plain": [
       "torch.return_types.sort(\n",
       "values=tensor([[0.1326, 0.2049, 0.2200, 0.5083, 0.5539],\n",
       "        [0.2822, 0.3632, 0.6718, 0.7358, 0.8288],\n",
       "        [0.1645, 0.5486, 0.8615, 0.9858, 0.9937]]),\n",
       "indices=tensor([[4, 1, 0, 3, 2],\n",
       "        [2, 4, 0, 1, 3],\n",
       "        [4, 1, 2, 3, 0]]))"
      ]
     },
     "execution_count": 71,
     "metadata": {},
     "output_type": "execute_result"
    }
   ],
   "source": [
    "torch.sort(A)"
   ]
  },
  {
   "cell_type": "code",
   "execution_count": 72,
   "id": "5d6145e3-39bb-499c-b5da-2aa0f64b6576",
   "metadata": {},
   "outputs": [
    {
     "data": {
      "text/plain": [
       "tensor([[0.5000, 0.5000, 0.5539, 0.5083, 0.5000],\n",
       "        [0.6718, 0.7358, 0.5000, 0.8288, 0.5000],\n",
       "        [0.9937, 0.5486, 0.8615, 0.9858, 0.5000]])"
      ]
     },
     "execution_count": 72,
     "metadata": {},
     "output_type": "execute_result"
    }
   ],
   "source": [
    "torch.clamp(A, min = 0.5)"
   ]
  },
  {
   "cell_type": "markdown",
   "id": "6d029473-1c2d-4685-9721-94baa0426f58",
   "metadata": {},
   "source": [
    "### Indexing and Slicing"
   ]
  },
  {
   "cell_type": "code",
   "execution_count": 73,
   "id": "030259bd-055f-41d9-8f6f-b2f0c6050c7a",
   "metadata": {},
   "outputs": [
    {
     "data": {
      "text/plain": [
       "tensor([[0.2200, 0.2049, 0.5539, 0.5083, 0.1326],\n",
       "        [0.6718, 0.7358, 0.2822, 0.8288, 0.3632],\n",
       "        [0.9937, 0.5486, 0.8615, 0.9858, 0.1645]])"
      ]
     },
     "execution_count": 73,
     "metadata": {},
     "output_type": "execute_result"
    }
   ],
   "source": [
    "A"
   ]
  },
  {
   "cell_type": "code",
   "execution_count": 74,
   "id": "e15e5967-f5e4-4ca7-bc91-998a82259546",
   "metadata": {},
   "outputs": [
    {
     "data": {
      "text/plain": [
       "tensor([[0.5539, 0.5083],\n",
       "        [0.2822, 0.8288]])"
      ]
     },
     "execution_count": 74,
     "metadata": {},
     "output_type": "execute_result"
    }
   ],
   "source": [
    "A[0:2, 2:4]"
   ]
  },
  {
   "cell_type": "code",
   "execution_count": 75,
   "id": "4b16da60-4b3a-4c54-95d1-493ecbd45773",
   "metadata": {},
   "outputs": [
    {
     "data": {
      "text/plain": [
       "tensor([0.2200, 0.2049, 0.5539, 0.5083, 0.1326])"
      ]
     },
     "execution_count": 75,
     "metadata": {},
     "output_type": "execute_result"
    }
   ],
   "source": [
    "A[0, :]"
   ]
  },
  {
   "cell_type": "code",
   "execution_count": 76,
   "id": "9049e678-d165-4b9e-9d5c-1a43eff9aaac",
   "metadata": {},
   "outputs": [
    {
     "data": {
      "text/plain": [
       "tensor([[0.2200, 0.5539],\n",
       "        [0.6718, 0.2822]])"
      ]
     },
     "execution_count": 76,
     "metadata": {},
     "output_type": "execute_result"
    }
   ],
   "source": [
    "A[0:2, 0:4:2]"
   ]
  },
  {
   "cell_type": "code",
   "execution_count": 77,
   "id": "ab29e602-d6f4-40e5-beb1-8bcb8843187a",
   "metadata": {},
   "outputs": [],
   "source": [
    "x = torch.rand(size = (3,4))\n",
    "y = torch.rand(size = (3,4))"
   ]
  },
  {
   "cell_type": "code",
   "execution_count": 78,
   "id": "82f8386e-bcc1-4eef-a630-581ef71cd9e8",
   "metadata": {},
   "outputs": [
    {
     "data": {
      "text/plain": [
       "tensor([[0.8483, 0.4900, 0.5103, 0.4210],\n",
       "        [0.4202, 0.0788, 0.3914, 0.6467],\n",
       "        [0.9627, 0.2758, 0.3969, 0.9662],\n",
       "        [0.2205, 0.0492, 0.4253, 0.2359],\n",
       "        [0.6269, 0.8232, 0.8885, 0.9947],\n",
       "        [0.9779, 0.0805, 0.5749, 0.2510]])"
      ]
     },
     "execution_count": 78,
     "metadata": {},
     "output_type": "execute_result"
    }
   ],
   "source": [
    "torch.cat((x, y), dim = 0)"
   ]
  },
  {
   "cell_type": "code",
   "execution_count": 79,
   "id": "ceb03a63-2318-45f0-8c17-0fbfe8cb65cc",
   "metadata": {},
   "outputs": [
    {
     "data": {
      "text/plain": [
       "tensor([[0.8483, 0.4900, 0.5103, 0.4210, 0.2205, 0.0492, 0.4253, 0.2359],\n",
       "        [0.4202, 0.0788, 0.3914, 0.6467, 0.6269, 0.8232, 0.8885, 0.9947],\n",
       "        [0.9627, 0.2758, 0.3969, 0.9662, 0.9779, 0.0805, 0.5749, 0.2510]])"
      ]
     },
     "execution_count": 79,
     "metadata": {},
     "output_type": "execute_result"
    }
   ],
   "source": [
    "torch.cat((x, y), dim = 1)"
   ]
  },
  {
   "cell_type": "code",
   "execution_count": 80,
   "id": "72206b56-95a2-43f3-b33a-ebe542f42113",
   "metadata": {},
   "outputs": [
    {
     "data": {
      "text/plain": [
       "torch.Size([3, 4])"
      ]
     },
     "execution_count": 80,
     "metadata": {},
     "output_type": "execute_result"
    }
   ],
   "source": [
    "x.shape"
   ]
  },
  {
   "cell_type": "code",
   "execution_count": 81,
   "id": "33f4d84f-f0f4-4f91-b7d0-542a3f94aaf1",
   "metadata": {},
   "outputs": [
    {
     "data": {
      "text/plain": [
       "tensor([[0.8483, 0.4900, 0.5103, 0.4210, 0.4202, 0.0788],\n",
       "        [0.3914, 0.6467, 0.9627, 0.2758, 0.3969, 0.9662]])"
      ]
     },
     "execution_count": 81,
     "metadata": {},
     "output_type": "execute_result"
    }
   ],
   "source": [
    "x.reshape(2, 6)"
   ]
  },
  {
   "cell_type": "code",
   "execution_count": 82,
   "id": "071e8c6d-0ac7-439a-bf9d-f24a3ad5793f",
   "metadata": {},
   "outputs": [
    {
     "data": {
      "text/plain": [
       "tensor([0.8483, 0.4900, 0.5103, 0.4210, 0.4202, 0.0788, 0.3914, 0.6467, 0.9627,\n",
       "        0.2758, 0.3969, 0.9662])"
      ]
     },
     "execution_count": 82,
     "metadata": {},
     "output_type": "execute_result"
    }
   ],
   "source": [
    "x.view(-1) # flattening"
   ]
  },
  {
   "cell_type": "code",
   "execution_count": 83,
   "id": "f80f2407-79ca-4b6b-827a-a153c18e72a9",
   "metadata": {},
   "outputs": [
    {
     "data": {
      "text/plain": [
       "tensor([[[0.0961, 0.1676, 0.8265, 0.9365],\n",
       "         [0.5953, 0.9907, 0.6429, 0.6438]],\n",
       "\n",
       "        [[0.5929, 0.4590, 0.4819, 0.4573],\n",
       "         [0.8423, 0.9126, 0.1594, 0.2614]],\n",
       "\n",
       "        [[0.4595, 0.7105, 0.6324, 0.3404],\n",
       "         [0.6549, 0.9157, 0.8227, 0.7011]],\n",
       "\n",
       "        [[0.9356, 0.4660, 0.7017, 0.6387],\n",
       "         [0.2938, 0.2827, 0.9439, 0.8178]],\n",
       "\n",
       "        [[0.6657, 0.8848, 0.2616, 0.7138],\n",
       "         [0.2216, 0.7591, 0.0774, 0.1859]]])"
      ]
     },
     "execution_count": 83,
     "metadata": {},
     "output_type": "execute_result"
    }
   ],
   "source": [
    "batch =5\n",
    "\n",
    "torch.rand((batch, 2,4))"
   ]
  },
  {
   "cell_type": "code",
   "execution_count": 84,
   "id": "8db02f62-a916-46ff-a369-79c2d1ef6ddc",
   "metadata": {},
   "outputs": [
    {
     "data": {
      "text/plain": [
       "tensor([[0.0679, 0.5562, 0.0159, 0.6226, 0.0532, 0.5418, 0.9496, 0.0179, 0.3100,\n",
       "         0.4036],\n",
       "        [0.7422, 0.9228, 0.9982, 0.4896, 0.5486, 0.7263, 0.0993, 0.2503, 0.0605,\n",
       "         0.5702],\n",
       "        [0.3175, 0.1583, 0.7963, 0.7135, 0.0837, 0.3166, 0.5030, 0.7078, 0.2455,\n",
       "         0.1132],\n",
       "        [0.6517, 0.4140, 0.8072, 0.0712, 0.8619, 0.3903, 0.8296, 0.4466, 0.3466,\n",
       "         0.7514],\n",
       "        [0.4665, 0.1043, 0.5930, 0.3253, 0.9756, 0.4488, 0.6155, 0.1216, 0.9042,\n",
       "         0.4135]])"
      ]
     },
     "execution_count": 84,
     "metadata": {},
     "output_type": "execute_result"
    }
   ],
   "source": [
    "batch = 5\n",
    "\n",
    "torch.rand((batch, 2,5)).view((batch, -1)) # batch flattening"
   ]
  },
  {
   "cell_type": "markdown",
   "id": "df0cf798-94fe-4300-918c-ef1df3820d84",
   "metadata": {},
   "source": [
    "### Autograd"
   ]
  },
  {
   "cell_type": "code",
   "execution_count": 85,
   "id": "0c7e981f-9141-46bd-92b5-fe2f8dbdf74c",
   "metadata": {},
   "outputs": [
    {
     "data": {
      "text/plain": [
       "tensor(5., requires_grad=True)"
      ]
     },
     "execution_count": 85,
     "metadata": {},
     "output_type": "execute_result"
    }
   ],
   "source": [
    "x = torch.tensor(5. , requires_grad = True)\n",
    "x"
   ]
  },
  {
   "cell_type": "markdown",
   "id": "c50777ac-3807-4998-83de-76793d2a9cb3",
   "metadata": {},
   "source": [
    "#### $y = x^2$"
   ]
  },
  {
   "cell_type": "code",
   "execution_count": 86,
   "id": "310308b1-57eb-4d19-af6a-3200f931f461",
   "metadata": {},
   "outputs": [
    {
     "data": {
      "text/plain": [
       "tensor(25., grad_fn=<PowBackward0>)"
      ]
     },
     "execution_count": 86,
     "metadata": {},
     "output_type": "execute_result"
    }
   ],
   "source": [
    "y = x**2\n",
    "y"
   ]
  },
  {
   "cell_type": "markdown",
   "id": "8c4f9436-d67f-4fe4-80de-548ace19aea0",
   "metadata": {},
   "source": [
    "#### $\\frac{dy}{dx} = 2x$"
   ]
  },
  {
   "cell_type": "code",
   "execution_count": 87,
   "id": "75eccce6-b25f-4617-8e6d-3c74696b3bed",
   "metadata": {},
   "outputs": [],
   "source": [
    "y.backward()"
   ]
  },
  {
   "cell_type": "code",
   "execution_count": 88,
   "id": "30735440-20a9-432f-9d2a-985ec3804ff3",
   "metadata": {},
   "outputs": [
    {
     "data": {
      "text/plain": [
       "tensor(10.)"
      ]
     },
     "execution_count": 88,
     "metadata": {},
     "output_type": "execute_result"
    }
   ],
   "source": [
    "x.grad"
   ]
  },
  {
   "cell_type": "code",
   "execution_count": 89,
   "id": "e3c7b09f-2e6d-48eb-887c-d9e146dad2ad",
   "metadata": {},
   "outputs": [
    {
     "data": {
      "text/plain": [
       "tensor([2., 4., 5.], requires_grad=True)"
      ]
     },
     "execution_count": 89,
     "metadata": {},
     "output_type": "execute_result"
    }
   ],
   "source": [
    "x = torch.tensor([2, 4, 5.] , requires_grad = True)\n",
    "x"
   ]
  },
  {
   "cell_type": "code",
   "execution_count": 90,
   "id": "0e00a694-f2d0-4bcb-a567-6fa9d12f7bc6",
   "metadata": {},
   "outputs": [
    {
     "data": {
      "text/plain": [
       "tensor([ 4., 16., 25.], grad_fn=<PowBackward0>)"
      ]
     },
     "execution_count": 90,
     "metadata": {},
     "output_type": "execute_result"
    }
   ],
   "source": [
    "y = x**2\n",
    "y"
   ]
  },
  {
   "cell_type": "code",
   "execution_count": 91,
   "id": "1713d0c1-2e13-4dd4-932a-6bdbd85282b8",
   "metadata": {},
   "outputs": [],
   "source": [
    "y.sum().backward()"
   ]
  },
  {
   "cell_type": "code",
   "execution_count": 92,
   "id": "8f571a01-390e-4e29-a68e-68ba8834d5e0",
   "metadata": {},
   "outputs": [
    {
     "data": {
      "text/plain": [
       "tensor([ 4.,  8., 10.])"
      ]
     },
     "execution_count": 92,
     "metadata": {},
     "output_type": "execute_result"
    }
   ],
   "source": [
    "x.grad"
   ]
  },
  {
   "cell_type": "markdown",
   "id": "546a1cdb-edaf-4c07-97af-7993d409251a",
   "metadata": {},
   "source": [
    "#### Partial derivative"
   ]
  },
  {
   "cell_type": "code",
   "execution_count": 93,
   "id": "5685efd7-c36f-4700-826b-2a11c097e8df",
   "metadata": {},
   "outputs": [],
   "source": [
    "x = torch.tensor([2, 4, 5.] , requires_grad = True)\n",
    "y = torch.tensor([6, 8, 10.] , requires_grad = True)"
   ]
  },
  {
   "cell_type": "code",
   "execution_count": 94,
   "id": "bc70e71d-61fe-4f33-8625-8f16ce3f43ff",
   "metadata": {},
   "outputs": [
    {
     "data": {
      "text/plain": [
       "tensor([ 40.,  80., 125.], grad_fn=<AddBackward0>)"
      ]
     },
     "execution_count": 94,
     "metadata": {},
     "output_type": "execute_result"
    }
   ],
   "source": [
    "f = x**2 + y**2\n",
    "f"
   ]
  },
  {
   "cell_type": "code",
   "execution_count": 95,
   "id": "96c78812-8c47-472d-829e-ea6d79ebe5db",
   "metadata": {},
   "outputs": [],
   "source": [
    "f.sum().backward()"
   ]
  },
  {
   "cell_type": "code",
   "execution_count": 96,
   "id": "ed90a47c-fc18-493d-b69a-1373835bef01",
   "metadata": {},
   "outputs": [
    {
     "data": {
      "text/plain": [
       "<AddBackward0 at 0x2003028b670>"
      ]
     },
     "execution_count": 96,
     "metadata": {},
     "output_type": "execute_result"
    }
   ],
   "source": [
    "f.grad_fn"
   ]
  },
  {
   "cell_type": "code",
   "execution_count": 97,
   "id": "fe8e6707-aadf-4262-bc9e-81738e04a862",
   "metadata": {},
   "outputs": [
    {
     "data": {
      "text/plain": [
       "tensor([ 4.,  8., 10.])"
      ]
     },
     "execution_count": 97,
     "metadata": {},
     "output_type": "execute_result"
    }
   ],
   "source": [
    "x.grad"
   ]
  },
  {
   "cell_type": "code",
   "execution_count": 98,
   "id": "a08ccf3a-cf75-47ad-929d-9b5e27a82218",
   "metadata": {},
   "outputs": [
    {
     "data": {
      "text/plain": [
       "tensor([12., 16., 20.])"
      ]
     },
     "execution_count": 98,
     "metadata": {},
     "output_type": "execute_result"
    }
   ],
   "source": [
    "y.grad"
   ]
  },
  {
   "cell_type": "markdown",
   "id": "5edefaf5-b336-4a53-ae8f-b1f2c7ed8309",
   "metadata": {},
   "source": [
    "#### $f(x, y) = x^2 . y^2$\n",
    "\n",
    "#### $\\frac{\\partial f}{\\partial x} = 2x.y^2$\n",
    "\n",
    "#### $\\frac{\\partial f}{\\partial y} = x^2.2y$"
   ]
  },
  {
   "cell_type": "code",
   "execution_count": 99,
   "id": "9c5bada9-9116-4ce1-8b3e-5fc64d8e9659",
   "metadata": {},
   "outputs": [],
   "source": [
    "x = torch.tensor([2, 4, 5.] , requires_grad = True)\n",
    "y = torch.tensor([6, 8, 10.] , requires_grad = True)"
   ]
  },
  {
   "cell_type": "code",
   "execution_count": 100,
   "id": "55ae6ae8-8731-4d89-9f24-42215c2c71ab",
   "metadata": {},
   "outputs": [
    {
     "data": {
      "text/plain": [
       "tensor([ 144., 1024., 2500.], grad_fn=<MulBackward0>)"
      ]
     },
     "execution_count": 100,
     "metadata": {},
     "output_type": "execute_result"
    }
   ],
   "source": [
    "f = x**2 * y**2\n",
    "f"
   ]
  },
  {
   "cell_type": "code",
   "execution_count": 101,
   "id": "306b8e31-21fe-41c2-9c69-1334ce282898",
   "metadata": {},
   "outputs": [],
   "source": [
    "f.sum().backward()"
   ]
  },
  {
   "cell_type": "code",
   "execution_count": 102,
   "id": "6cdb3271-611d-4f35-94b2-c392def65508",
   "metadata": {},
   "outputs": [
    {
     "data": {
      "text/plain": [
       "<MulBackward0 at 0x200302968e0>"
      ]
     },
     "execution_count": 102,
     "metadata": {},
     "output_type": "execute_result"
    }
   ],
   "source": [
    "f.grad_fn"
   ]
  },
  {
   "cell_type": "code",
   "execution_count": 103,
   "id": "e38f7d3d-0540-4399-98a1-04a6726b1ac7",
   "metadata": {},
   "outputs": [
    {
     "data": {
      "text/plain": [
       "tensor([ 144.,  512., 1000.])"
      ]
     },
     "execution_count": 103,
     "metadata": {},
     "output_type": "execute_result"
    }
   ],
   "source": [
    "x.grad"
   ]
  },
  {
   "cell_type": "code",
   "execution_count": 104,
   "id": "87731298-25c3-42b8-9e7a-20c07a4e46b1",
   "metadata": {},
   "outputs": [
    {
     "data": {
      "text/plain": [
       "tensor([ 48., 256., 500.])"
      ]
     },
     "execution_count": 104,
     "metadata": {},
     "output_type": "execute_result"
    }
   ],
   "source": [
    "y.grad"
   ]
  },
  {
   "cell_type": "markdown",
   "id": "ce06aa51-e4a8-40cc-a04c-ecaf0679b3fa",
   "metadata": {},
   "source": [
    "### nth Derivative"
   ]
  },
  {
   "cell_type": "code",
   "execution_count": 105,
   "id": "d0f221de-00b2-44ce-a85e-39d47805f0d2",
   "metadata": {},
   "outputs": [],
   "source": [
    "from torch.autograd import grad\n",
    "\n",
    "def nth_derivative(f, wrt, n = 2):\n",
    "    \n",
    "    for i in range(n):\n",
    "        grads = grad(f, wrt, create_graph = True)[0]\n",
    "        f = grads.sum()\n",
    "        \n",
    "    return grads"
   ]
  },
  {
   "cell_type": "code",
   "execution_count": 106,
   "id": "c29f0b20-c7d8-4181-8fa1-2b19bfa3f4c8",
   "metadata": {},
   "outputs": [],
   "source": [
    "x = torch.tensor(5., requires_grad = True)"
   ]
  },
  {
   "cell_type": "code",
   "execution_count": 107,
   "id": "19816fef-eb62-452b-aaac-4775151b0741",
   "metadata": {},
   "outputs": [],
   "source": [
    "f = x**2 + x**3"
   ]
  },
  {
   "cell_type": "code",
   "execution_count": 108,
   "id": "3e8a6efe-6f6a-454e-a1b8-236188f7409f",
   "metadata": {},
   "outputs": [
    {
     "data": {
      "text/plain": [
       "tensor(32., grad_fn=<AddBackward0>)"
      ]
     },
     "execution_count": 108,
     "metadata": {},
     "output_type": "execute_result"
    }
   ],
   "source": [
    "nth_derivative(f, x)"
   ]
  },
  {
   "cell_type": "code",
   "execution_count": 109,
   "id": "44a019f6-55f3-408a-b97d-d7c8cfd602e6",
   "metadata": {},
   "outputs": [
    {
     "data": {
      "text/plain": [
       "tensor(6., grad_fn=<AddBackward0>)"
      ]
     },
     "execution_count": 109,
     "metadata": {},
     "output_type": "execute_result"
    }
   ],
   "source": [
    "nth_derivative(f, x, 3)"
   ]
  },
  {
   "cell_type": "code",
   "execution_count": 110,
   "id": "869c3452-0c6f-4382-bb52-4cb473810e6b",
   "metadata": {},
   "outputs": [
    {
     "data": {
      "text/plain": [
       "(tensor(32., grad_fn=<AddBackward0>),)"
      ]
     },
     "execution_count": 110,
     "metadata": {},
     "output_type": "execute_result"
    }
   ],
   "source": [
    "grad(grad(f, x, create_graph = True)[0], x, create_graph = True)"
   ]
  },
  {
   "cell_type": "markdown",
   "id": "af96020c-fbd0-425e-ba1e-df6407e5d4a6",
   "metadata": {},
   "source": [
    "### Neural Network implementation"
   ]
  },
  {
   "cell_type": "code",
   "execution_count": 111,
   "id": "2c7ea7c0-b38c-41de-b497-7e051f8310db",
   "metadata": {},
   "outputs": [],
   "source": [
    "import os\n",
    "import numpy as np\n",
    "import matplotlib.pyplot as plt\n",
    "import seaborn as sns\n",
    "import pandas as pd\n",
    "import torch\n",
    "import torch.nn as nn\n",
    "from torchvision import transforms, datasets\n",
    "from torch.utils.data import DataLoader\n",
    "from sklearn.metrics import confusion_matrix\n",
    "\n",
    "plt.style.use('fivethirtyeight')"
   ]
  },
  {
   "cell_type": "code",
   "execution_count": 112,
   "id": "bf65cceb-d67a-4e2f-8371-02f4eb77fdbb",
   "metadata": {},
   "outputs": [],
   "source": [
    "## Loading the data\n",
    "\n",
    "DATA_PATH = 'datasets'\n",
    "\n",
    "DATA_DIR = 'MNIST'\n",
    "\n",
    "ROOT_DIR = os.path.join('..', DATA_PATH, DATA_DIR)\n",
    "\n",
    "train_data  = datasets.MNIST(\n",
    "    root= ROOT_DIR,\n",
    "    train= True,\n",
    "    transform= transforms.ToTensor(),\n",
    "    target_transform= None,\n",
    "    download= True\n",
    ")\n",
    "\n",
    "\n",
    "test_data  = datasets.MNIST(\n",
    "    root= ROOT_DIR,\n",
    "    train= False,\n",
    "    transform= transforms.ToTensor(),\n",
    "    target_transform= None,\n",
    "    download= True\n",
    ")"
   ]
  },
  {
   "cell_type": "code",
   "execution_count": 113,
   "id": "29463e42-70e5-447f-a6ca-557a52ab7af4",
   "metadata": {},
   "outputs": [
    {
     "data": {
      "text/plain": [
       "torch.uint8"
      ]
     },
     "execution_count": 113,
     "metadata": {},
     "output_type": "execute_result"
    }
   ],
   "source": [
    "train_data.data.dtype"
   ]
  },
  {
   "cell_type": "code",
   "execution_count": 114,
   "id": "53d981ee-b57d-46cf-a9df-a4d39969aff8",
   "metadata": {},
   "outputs": [
    {
     "data": {
      "text/plain": [
       "tensor([[  0,   0,   0,   0,   0,   0,   0,   0,   0,   0,   0,   0,   0,   0,\n",
       "           0,   0,   0,   0,   0,   0,   0,   0,   0,   0,   0,   0,   0,   0],\n",
       "        [  0,   0,   0,   0,   0,   0,   0,   0,   0,   0,   0,   0,   0,   0,\n",
       "           0,   0,   0,   0,   0,   0,   0,   0,   0,   0,   0,   0,   0,   0],\n",
       "        [  0,   0,   0,   0,   0,   0,   0,   0,   0,   0,   0,   0,   0,   0,\n",
       "           0,   0,   0,   0,   0,   0,   0,   0,   0,   0,   0,   0,   0,   0],\n",
       "        [  0,   0,   0,   0,   0,   0,   0,   0,   0,   0,   0,   0,   0,   0,\n",
       "           0,   0,   0,   0,   0,   0,   0,   0,   0,   0,   0,   0,   0,   0],\n",
       "        [  0,   0,   0,   0,   0,   0,   0,   0,   0,   0,   0,   0,   0,   0,\n",
       "           0,   0,   0,   0,   0,   0,   0,   0,   0,   0,   0,   0,   0,   0],\n",
       "        [  0,   0,   0,   0,   0,   0,   0,   0,   0,   0,   0,   0,   3,  18,\n",
       "          18,  18, 126, 136, 175,  26, 166, 255, 247, 127,   0,   0,   0,   0],\n",
       "        [  0,   0,   0,   0,   0,   0,   0,   0,  30,  36,  94, 154, 170, 253,\n",
       "         253, 253, 253, 253, 225, 172, 253, 242, 195,  64,   0,   0,   0,   0],\n",
       "        [  0,   0,   0,   0,   0,   0,   0,  49, 238, 253, 253, 253, 253, 253,\n",
       "         253, 253, 253, 251,  93,  82,  82,  56,  39,   0,   0,   0,   0,   0],\n",
       "        [  0,   0,   0,   0,   0,   0,   0,  18, 219, 253, 253, 253, 253, 253,\n",
       "         198, 182, 247, 241,   0,   0,   0,   0,   0,   0,   0,   0,   0,   0],\n",
       "        [  0,   0,   0,   0,   0,   0,   0,   0,  80, 156, 107, 253, 253, 205,\n",
       "          11,   0,  43, 154,   0,   0,   0,   0,   0,   0,   0,   0,   0,   0],\n",
       "        [  0,   0,   0,   0,   0,   0,   0,   0,   0,  14,   1, 154, 253,  90,\n",
       "           0,   0,   0,   0,   0,   0,   0,   0,   0,   0,   0,   0,   0,   0],\n",
       "        [  0,   0,   0,   0,   0,   0,   0,   0,   0,   0,   0, 139, 253, 190,\n",
       "           2,   0,   0,   0,   0,   0,   0,   0,   0,   0,   0,   0,   0,   0],\n",
       "        [  0,   0,   0,   0,   0,   0,   0,   0,   0,   0,   0,  11, 190, 253,\n",
       "          70,   0,   0,   0,   0,   0,   0,   0,   0,   0,   0,   0,   0,   0],\n",
       "        [  0,   0,   0,   0,   0,   0,   0,   0,   0,   0,   0,   0,  35, 241,\n",
       "         225, 160, 108,   1,   0,   0,   0,   0,   0,   0,   0,   0,   0,   0],\n",
       "        [  0,   0,   0,   0,   0,   0,   0,   0,   0,   0,   0,   0,   0,  81,\n",
       "         240, 253, 253, 119,  25,   0,   0,   0,   0,   0,   0,   0,   0,   0],\n",
       "        [  0,   0,   0,   0,   0,   0,   0,   0,   0,   0,   0,   0,   0,   0,\n",
       "          45, 186, 253, 253, 150,  27,   0,   0,   0,   0,   0,   0,   0,   0],\n",
       "        [  0,   0,   0,   0,   0,   0,   0,   0,   0,   0,   0,   0,   0,   0,\n",
       "           0,  16,  93, 252, 253, 187,   0,   0,   0,   0,   0,   0,   0,   0],\n",
       "        [  0,   0,   0,   0,   0,   0,   0,   0,   0,   0,   0,   0,   0,   0,\n",
       "           0,   0,   0, 249, 253, 249,  64,   0,   0,   0,   0,   0,   0,   0],\n",
       "        [  0,   0,   0,   0,   0,   0,   0,   0,   0,   0,   0,   0,   0,   0,\n",
       "          46, 130, 183, 253, 253, 207,   2,   0,   0,   0,   0,   0,   0,   0],\n",
       "        [  0,   0,   0,   0,   0,   0,   0,   0,   0,   0,   0,   0,  39, 148,\n",
       "         229, 253, 253, 253, 250, 182,   0,   0,   0,   0,   0,   0,   0,   0],\n",
       "        [  0,   0,   0,   0,   0,   0,   0,   0,   0,   0,  24, 114, 221, 253,\n",
       "         253, 253, 253, 201,  78,   0,   0,   0,   0,   0,   0,   0,   0,   0],\n",
       "        [  0,   0,   0,   0,   0,   0,   0,   0,  23,  66, 213, 253, 253, 253,\n",
       "         253, 198,  81,   2,   0,   0,   0,   0,   0,   0,   0,   0,   0,   0],\n",
       "        [  0,   0,   0,   0,   0,   0,  18, 171, 219, 253, 253, 253, 253, 195,\n",
       "          80,   9,   0,   0,   0,   0,   0,   0,   0,   0,   0,   0,   0,   0],\n",
       "        [  0,   0,   0,   0,  55, 172, 226, 253, 253, 253, 253, 244, 133,  11,\n",
       "           0,   0,   0,   0,   0,   0,   0,   0,   0,   0,   0,   0,   0,   0],\n",
       "        [  0,   0,   0,   0, 136, 253, 253, 253, 212, 135, 132,  16,   0,   0,\n",
       "           0,   0,   0,   0,   0,   0,   0,   0,   0,   0,   0,   0,   0,   0],\n",
       "        [  0,   0,   0,   0,   0,   0,   0,   0,   0,   0,   0,   0,   0,   0,\n",
       "           0,   0,   0,   0,   0,   0,   0,   0,   0,   0,   0,   0,   0,   0],\n",
       "        [  0,   0,   0,   0,   0,   0,   0,   0,   0,   0,   0,   0,   0,   0,\n",
       "           0,   0,   0,   0,   0,   0,   0,   0,   0,   0,   0,   0,   0,   0],\n",
       "        [  0,   0,   0,   0,   0,   0,   0,   0,   0,   0,   0,   0,   0,   0,\n",
       "           0,   0,   0,   0,   0,   0,   0,   0,   0,   0,   0,   0,   0,   0]],\n",
       "       dtype=torch.uint8)"
      ]
     },
     "execution_count": 114,
     "metadata": {},
     "output_type": "execute_result"
    }
   ],
   "source": [
    "train_data.data[0]"
   ]
  },
  {
   "cell_type": "code",
   "execution_count": 115,
   "id": "fb0261af-3ddc-43e1-8756-85890f1cb5ad",
   "metadata": {},
   "outputs": [
    {
     "data": {
      "text/plain": [
       "<AxesSubplot:>"
      ]
     },
     "execution_count": 115,
     "metadata": {},
     "output_type": "execute_result"
    },
    {
     "data": {
      "image/png": "[encoded data removed]",
      "text/plain": [
       "<Figure size 720x720 with 2 Axes>"
      ]
     },
     "metadata": {},
     "output_type": "display_data"
    }
   ],
   "source": [
    "plt.figure(figsize = (10, 10))\n",
    "sns.heatmap(train_data.data[0], annot = True, cmap = 'binary', fmt = 'd')"
   ]
  },
  {
   "cell_type": "code",
   "execution_count": 116,
   "id": "159b2d52-0222-4eab-aaa7-f020a6ff2b78",
   "metadata": {},
   "outputs": [
    {
     "data": {
      "text/plain": [
       "torch.Size([60000, 28, 28])"
      ]
     },
     "execution_count": 116,
     "metadata": {},
     "output_type": "execute_result"
    }
   ],
   "source": [
    "train_data.data.shape"
   ]
  },
  {
   "cell_type": "code",
   "execution_count": 117,
   "id": "6e3dc750-dc75-487a-ab85-87f6c7678c2d",
   "metadata": {},
   "outputs": [
    {
     "data": {
      "text/plain": [
       "tensor([5, 0, 4,  ..., 5, 6, 8])"
      ]
     },
     "execution_count": 117,
     "metadata": {},
     "output_type": "execute_result"
    }
   ],
   "source": [
    "train_data.targets"
   ]
  },
  {
   "cell_type": "code",
   "execution_count": 118,
   "id": "a61c5964-1a3f-4c15-8784-17e0d510c088",
   "metadata": {},
   "outputs": [
    {
     "data": {
      "text/plain": [
       "torch.int64"
      ]
     },
     "execution_count": 118,
     "metadata": {},
     "output_type": "execute_result"
    }
   ],
   "source": [
    "train_data.targets.dtype"
   ]
  },
  {
   "cell_type": "code",
   "execution_count": 119,
   "id": "5be58baa-a415-4e10-ba73-a6b36200ac60",
   "metadata": {},
   "outputs": [
    {
     "data": {
      "text/plain": [
       "torch.Size([10000, 28, 28])"
      ]
     },
     "execution_count": 119,
     "metadata": {},
     "output_type": "execute_result"
    }
   ],
   "source": [
    "test_data.data.shape"
   ]
  },
  {
   "cell_type": "code",
   "execution_count": 120,
   "id": "03c8410a-83a5-41b1-a620-7477dbdc394d",
   "metadata": {},
   "outputs": [
    {
     "data": {
      "text/plain": [
       "(tensor(0, dtype=torch.uint8), tensor(255, dtype=torch.uint8))"
      ]
     },
     "execution_count": 120,
     "metadata": {},
     "output_type": "execute_result"
    }
   ],
   "source": [
    "train_data.data[0].min(), train_data.data[0].max()"
   ]
  },
  {
   "cell_type": "code",
   "execution_count": 121,
   "id": "194a743f-a918-4112-b547-556e65bcbce9",
   "metadata": {},
   "outputs": [],
   "source": [
    "# dataloader creates iterative object\n",
    "\n",
    "BATCH = 128\n",
    "\n",
    "train_data_loader = DataLoader(dataset= train_data,\n",
    "                               batch_size= BATCH,\n",
    "                               shuffle= True)\n",
    "\n",
    "test_data_loader = DataLoader(dataset= test_data,\n",
    "                               batch_size= BATCH)"
   ]
  },
  {
   "cell_type": "code",
   "execution_count": 122,
   "id": "c31abc20-87a8-4564-b9fd-7b43ad43bcf0",
   "metadata": {},
   "outputs": [
    {
     "name": "stdout",
     "output_type": "stream",
     "text": [
      "torch.Size([128, 1, 28, 28])\n",
      "torch.Size([128])\n"
     ]
    }
   ],
   "source": [
    "for x in test_data_loader:\n",
    "    print(x[0].shape)\n",
    "    print(x[1].shape)\n",
    "    break"
   ]
  },
  {
   "cell_type": "code",
   "execution_count": 123,
   "id": "081a0ead-c4a6-4b21-b5ed-006db2e73cab",
   "metadata": {},
   "outputs": [],
   "source": [
    "DEVICE = \"cuda\" if torch.cuda.is_available() else \"cpu\""
   ]
  },
  {
   "cell_type": "code",
   "execution_count": 124,
   "id": "f5ec0d60-a317-481f-8d27-a7d879609ab6",
   "metadata": {},
   "outputs": [],
   "source": [
    "# Define the model\n",
    "\n",
    "class NeuralNetwork(nn.Module):\n",
    "    def __init__(self, in_, out_):\n",
    "        super(NeuralNetwork, self).__init__()\n",
    "        self.layers = nn.Sequential(\n",
    "            nn.Linear(in_, 256),\n",
    "            nn.ReLU(),\n",
    "            nn.Linear(256, 128),\n",
    "            nn.ReLU(),\n",
    "            nn.Linear(128, out_)\n",
    "        )\n",
    "    \n",
    "    def forward(self, x):\n",
    "        return self.layers(x)"
   ]
  },
  {
   "cell_type": "code",
   "execution_count": 125,
   "id": "08d8a389-51f1-4e3d-ac12-64299add34e0",
   "metadata": {},
   "outputs": [
    {
     "data": {
      "text/plain": [
       "NeuralNetwork(\n",
       "  (layers): Sequential(\n",
       "    (0): Linear(in_features=784, out_features=256, bias=True)\n",
       "    (1): ReLU()\n",
       "    (2): Linear(in_features=256, out_features=128, bias=True)\n",
       "    (3): ReLU()\n",
       "    (4): Linear(in_features=128, out_features=10, bias=True)\n",
       "  )\n",
       ")"
      ]
     },
     "execution_count": 125,
     "metadata": {},
     "output_type": "execute_result"
    }
   ],
   "source": [
    "INPUT_SHAPE= train_data.data[0].shape[0] * train_data.data[0].shape[1]\n",
    "\n",
    "model = NeuralNetwork(INPUT_SHAPE, 10)\n",
    "\n",
    "model.to(DEVICE)\n",
    "\n",
    "model"
   ]
  },
  {
   "cell_type": "code",
   "execution_count": 126,
   "id": "a93fd895-895e-47a9-8bb5-5ea4a18c9de5",
   "metadata": {},
   "outputs": [],
   "source": [
    "CE_loss = nn.CrossEntropyLoss()\n",
    "optimizer = torch.optim.Adam(model.parameters())"
   ]
  },
  {
   "cell_type": "code",
   "execution_count": 127,
   "id": "93779dc3-3768-4902-b34a-035a6217402e",
   "metadata": {},
   "outputs": [
    {
     "name": "stdout",
     "output_type": "stream",
     "text": [
      "Epoch: 1/10\n",
      "   Batch: 0, Loss: 2.3109, Accuracy: 0.1250\n",
      "   Batch: 100, Loss: 0.4693, Accuracy: 0.8438\n",
      "   Batch: 200, Loss: 0.3087, Accuracy: 0.8984\n",
      "   Batch: 300, Loss: 0.1175, Accuracy: 0.9609\n",
      "   Batch: 400, Loss: 0.2245, Accuracy: 0.9297\n",
      "Epoch: 2/10\n",
      "   Batch: 0, Loss: 0.1865, Accuracy: 0.9297\n",
      "   Batch: 100, Loss: 0.0989, Accuracy: 0.9688\n",
      "   Batch: 200, Loss: 0.2357, Accuracy: 0.9531\n",
      "   Batch: 300, Loss: 0.1486, Accuracy: 0.9531\n",
      "   Batch: 400, Loss: 0.1357, Accuracy: 0.9531\n",
      "Epoch: 3/10\n",
      "   Batch: 0, Loss: 0.1444, Accuracy: 0.9453\n",
      "   Batch: 100, Loss: 0.0490, Accuracy: 0.9844\n",
      "   Batch: 200, Loss: 0.0463, Accuracy: 0.9844\n",
      "   Batch: 300, Loss: 0.0962, Accuracy: 0.9766\n",
      "   Batch: 400, Loss: 0.0389, Accuracy: 0.9844\n",
      "Epoch: 4/10\n",
      "   Batch: 0, Loss: 0.1003, Accuracy: 0.9844\n",
      "   Batch: 100, Loss: 0.0620, Accuracy: 0.9766\n",
      "   Batch: 200, Loss: 0.0901, Accuracy: 0.9688\n",
      "   Batch: 300, Loss: 0.1280, Accuracy: 0.9688\n",
      "   Batch: 400, Loss: 0.0671, Accuracy: 0.9844\n",
      "Epoch: 5/10\n",
      "   Batch: 0, Loss: 0.0207, Accuracy: 1.0000\n",
      "   Batch: 100, Loss: 0.0194, Accuracy: 1.0000\n",
      "   Batch: 200, Loss: 0.0212, Accuracy: 0.9922\n",
      "   Batch: 300, Loss: 0.0201, Accuracy: 0.9922\n",
      "   Batch: 400, Loss: 0.0844, Accuracy: 0.9766\n",
      "Epoch: 6/10\n",
      "   Batch: 0, Loss: 0.0437, Accuracy: 0.9922\n",
      "   Batch: 100, Loss: 0.0167, Accuracy: 1.0000\n",
      "   Batch: 200, Loss: 0.0888, Accuracy: 0.9766\n",
      "   Batch: 300, Loss: 0.0597, Accuracy: 0.9844\n",
      "   Batch: 400, Loss: 0.0408, Accuracy: 0.9922\n",
      "Epoch: 7/10\n",
      "   Batch: 0, Loss: 0.0608, Accuracy: 0.9688\n",
      "   Batch: 100, Loss: 0.0601, Accuracy: 0.9844\n",
      "   Batch: 200, Loss: 0.0311, Accuracy: 0.9844\n",
      "   Batch: 300, Loss: 0.0240, Accuracy: 0.9922\n",
      "   Batch: 400, Loss: 0.0304, Accuracy: 0.9844\n",
      "Epoch: 8/10\n",
      "   Batch: 0, Loss: 0.0144, Accuracy: 1.0000\n",
      "   Batch: 100, Loss: 0.0047, Accuracy: 1.0000\n",
      "   Batch: 200, Loss: 0.0617, Accuracy: 0.9844\n",
      "   Batch: 300, Loss: 0.0076, Accuracy: 1.0000\n",
      "   Batch: 400, Loss: 0.0063, Accuracy: 1.0000\n",
      "Epoch: 9/10\n",
      "   Batch: 0, Loss: 0.0364, Accuracy: 0.9922\n",
      "   Batch: 100, Loss: 0.0045, Accuracy: 1.0000\n",
      "   Batch: 200, Loss: 0.0247, Accuracy: 0.9844\n",
      "   Batch: 300, Loss: 0.0028, Accuracy: 1.0000\n",
      "   Batch: 400, Loss: 0.0085, Accuracy: 1.0000\n",
      "Epoch: 10/10\n",
      "   Batch: 0, Loss: 0.0146, Accuracy: 1.0000\n",
      "   Batch: 100, Loss: 0.0041, Accuracy: 1.0000\n",
      "   Batch: 200, Loss: 0.0227, Accuracy: 0.9922\n",
      "   Batch: 300, Loss: 0.0187, Accuracy: 0.9922\n",
      "   Batch: 400, Loss: 0.0131, Accuracy: 1.0000\n"
     ]
    }
   ],
   "source": [
    "##  Training loop\n",
    "\n",
    "EPOCHS = 10\n",
    "\n",
    "losses_ = list()\n",
    "acc_ = list()\n",
    "\n",
    "for epoch in range(EPOCHS):\n",
    "    print(f\"Epoch: {epoch +1}/{EPOCHS}\")\n",
    "    \n",
    "    for batch, data in enumerate(train_data_loader):\n",
    "        x = data[0].to(DEVICE)\n",
    "        y = data[1].to(DEVICE)\n",
    "        \n",
    "        optimizer.zero_grad()\n",
    "        \n",
    "        y_pred = model(x.reshape(-1, INPUT_SHAPE))\n",
    "        \n",
    "        loss = CE_loss(y_pred, y)\n",
    "        losses_.append(loss.item())\n",
    "        loss.backward()\n",
    "        optimizer.step()\n",
    "        \n",
    "        accuracy = torch.mean((torch.argmax(y_pred, 1) == y).float()).item()\n",
    "        acc_.append(accuracy)\n",
    "        \n",
    "        if batch%100 == 0:\n",
    "            print(f\"   Batch: {batch}, Loss: {loss.item():.4f}, Accuracy: {accuracy:.4f}\")\n",
    "        "
   ]
  },
  {
   "cell_type": "code",
   "execution_count": 128,
   "id": "5272c56c-342e-47c3-a237-dfeaafb9f730",
   "metadata": {},
   "outputs": [
    {
     "data": {
      "text/plain": [
       "<AxesSubplot:>"
      ]
     },
     "execution_count": 128,
     "metadata": {},
     "output_type": "execute_result"
    },
    {
     "data": {
      "image/png": "[encoded data removed]",
      "text/plain": [
       "<Figure size 360x360 with 1 Axes>"
      ]
     },
     "metadata": {},
     "output_type": "display_data"
    }
   ],
   "source": [
    "# plot the Train accuracy and loss\n",
    "pd.DataFrame(data= {'Loss': losses_, \"Accuracy\": acc_}).plot(figsize=(5,5))"
   ]
  },
  {
   "cell_type": "code",
   "execution_count": 129,
   "id": "d7a2cf41-7400-4a48-a6b0-e9850e5f6ee1",
   "metadata": {},
   "outputs": [],
   "source": [
    "# testing over the test data\n",
    "\n",
    "test_loss = 0\n",
    "test_acc = 0\n",
    "\n",
    "with torch.no_grad():\n",
    "    for batch, data in enumerate(test_data_loader):\n",
    "        x = data[0].to(DEVICE)\n",
    "        y = data[1].to(DEVICE)\n",
    "        \n",
    "        y_pred = model(x.reshape(-1, INPUT_SHAPE))\n",
    "        \n",
    "        loss = CE_loss(y_pred, y)\n",
    "        \n",
    "        test_loss += loss.item()\n",
    "        \n",
    "        test_acc = torch.mean((torch.argmax(y_pred, 1) == y).float()).item()\n",
    "        batch += 1"
   ]
  },
  {
   "cell_type": "code",
   "execution_count": 130,
   "id": "03faec38-367f-4056-9648-64ab738e03d0",
   "metadata": {},
   "outputs": [
    {
     "name": "stdout",
     "output_type": "stream",
     "text": [
      "test_loss: 6.1244, test_accuracy: 1.0000\n"
     ]
    }
   ],
   "source": [
    "print(f\"test_loss: {test_loss:.4f}, test_accuracy: {test_acc:.4f}\")"
   ]
  },
  {
   "cell_type": "code",
   "execution_count": 131,
   "id": "09422be7-524f-48be-a089-c06b9c9e0cf2",
   "metadata": {},
   "outputs": [],
   "source": [
    "# Confusion matrix\n",
    "\n",
    "pred = np.array([])\n",
    "target = np.array([])\n",
    "\n",
    "with torch.no_grad():\n",
    "    for batch, data in enumerate(test_data_loader):\n",
    "        x = data[0].to(DEVICE)\n",
    "        y = data[1].to(DEVICE)\n",
    "        \n",
    "        y_pred = model(x.reshape(-1, INPUT_SHAPE))\n",
    "        \n",
    "        loss = CE_loss(y_pred, y)\n",
    "        \n",
    "        pred = np.concatenate((pred, torch.argmax(y_pred, 1).cpu().numpy()))\n",
    "        target = np.concatenate((target, y.cpu().numpy()))"
   ]
  },
  {
   "cell_type": "code",
   "execution_count": 132,
   "id": "dfc14f1d-5146-4dd8-a5f0-bebb4333a246",
   "metadata": {},
   "outputs": [],
   "source": [
    "cm = confusion_matrix(target, pred)"
   ]
  },
  {
   "cell_type": "code",
   "execution_count": 133,
   "id": "8673d532-0d61-4918-a839-292b2b462a44",
   "metadata": {},
   "outputs": [
    {
     "data": {
      "text/plain": [
       "<AxesSubplot:>"
      ]
     },
     "execution_count": 133,
     "metadata": {},
     "output_type": "execute_result"
    },
    {
     "data": {
      "image/png": "[encoded data removed]",
      "text/plain": [
       "<Figure size 720x720 with 2 Axes>"
      ]
     },
     "metadata": {},
     "output_type": "display_data"
    }
   ],
   "source": [
    "plt.figure(figsize = (10, 10))\n",
    "sns.heatmap(cm, annot = True, fmt= 'd')"
   ]
  },
  {
   "cell_type": "code",
   "execution_count": null,
   "id": "4920ab53-4c80-481a-b6a6-d785113c2f96",
   "metadata": {},
   "outputs": [],
   "source": []
  }
 ],
 "metadata": {
  "kernelspec": {
   "display_name": "Python 3 (ipykernel)",
   "language": "python",
   "name": "python3"
  },
  "language_info": {
   "codemirror_mode": {
    "name": "ipython",
    "version": 3
   },
   "file_extension": ".py",
   "mimetype": "text/x-python",
   "name": "python",
   "nbconvert_exporter": "python",
   "pygments_lexer": "ipython3",
   "version": "3.9.7"
  }
 },
 "nbformat": 4,
 "nbformat_minor": 5
}
