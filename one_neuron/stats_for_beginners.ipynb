{
 "cells": [
  {
   "cell_type": "markdown",
   "id": "48ade0eb-7c82-4209-9b69-5325f35fc4c3",
   "metadata": {
    "tags": []
   },
   "source": [
    "# Course: Stats for Beginners"
   ]
  },
  {
   "cell_type": "markdown",
   "id": "192d1c6d-75d3-43c3-b48d-d42841a6482d",
   "metadata": {},
   "source": [
    "## Statistics Assignment 1"
   ]
  },
  {
   "cell_type": "markdown",
   "id": "e38b2097-7bb2-4b1c-8c3e-c6c299449e96",
   "metadata": {
    "tags": []
   },
   "source": [
    "#### <font color='red'>1. What exactly is the difference between descriptive and inferential statistics?</font>\n",
    "#### Ans- Descriptive statistics help us to analysis and describe the data in measurable form specifically on samples. Inferential statistics use samples to make prediction on population.\n",
    "\n",
    "#### <font color='red'>2. I'm not sure what is the difference between a sample and a population?</font>\n",
    "#### Ans- Population is set of all the possible data points in universe data points can have multiple features and sample is a set of data points from this population pool always having less number of data points than population set.\n",
    "\n",
    "#### <font color='red'>3. What distinguishes descriptive statistics from other types of statistics?</font>\n",
    "#### Ans- Descriptive statistics describe data like mean, median, mode and standard dev. etc. Inferential statistics allow us to make decisions in the form of inference like linear regression, logistics regression etc, from given data.\n",
    "\n",
    "#### <font color='red'>4. What is the difference between quantitative and qualitative data?</font>\n",
    "#### Ans- Any data which can be quantified or measured is quantitative data, during sampling we ask questions like \"how many\", \"how much\", or \"how often\". For e.g, amount of money invested. Whereas, qualitative data defines the nature of the data and can anwswer \"why\" or \"how\" about the data.\n",
    "\n",
    "#### <font color='red'>5. What is the definition of a percentile?</font>\n",
    "#### Ans- Percentile indicated a data point value below which a certain percentage of obersvations falls. For example, if we consider observations ranging from 1 to 10, so 20th percentile will be on 2 and 20% of the observations fall under 2."
   ]
  },
  {
   "cell_type": "markdown",
   "id": "7ce2a252-a9e7-4388-bda8-a0892c5ba45d",
   "metadata": {},
   "source": [
    "# Statistics Assignment 2\n",
    "\n",
    "#### <font color='red'>1. How can we figure out what the interquartile range is?</font>\n",
    "#### \n",
    "\n",
    "#### <font color='red'>2. What exactly is the value of the 5-number theory?</font>\n",
    "#### <font color='red'>3. What is the relationship between standard deviation and variance?</font>\n",
    "#### <font color='red'>4. What does the difference between variance and standard deviation mean?</font>\n",
    "\n",
    "#### <font color='red'>5. When is it appropriate to refer to a skewed data distribution?</font>"
   ]
  },
  {
   "cell_type": "markdown",
   "id": "158e13cc-386e-458e-8562-82afc99d448d",
   "metadata": {},
   "source": []
  },
  {
   "cell_type": "markdown",
   "id": "5cc97969-c993-4add-baf0-30aa0590dcc0",
   "metadata": {},
   "source": []
  }
 ],
 "metadata": {
  "kernelspec": {
   "display_name": "Python 3 (ipykernel)",
   "language": "python",
   "name": "python3"
  },
  "language_info": {
   "codemirror_mode": {
    "name": "ipython",
    "version": 3
   },
   "file_extension": ".py",
   "mimetype": "text/x-python",
   "name": "python",
   "nbconvert_exporter": "python",
   "pygments_lexer": "ipython3",
   "version": "3.9.7"
  }
 },
 "nbformat": 4,
 "nbformat_minor": 5
}
